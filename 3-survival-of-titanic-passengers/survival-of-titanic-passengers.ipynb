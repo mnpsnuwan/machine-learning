{
 "cells": [
  {
   "cell_type": "code",
   "execution_count": 1,
   "id": "e2fe98a9",
   "metadata": {},
   "outputs": [],
   "source": [
    "import pandas as pd\n",
    "import numpy as np\n",
    "\n",
    "import matplotlib\n",
    "import matplotlib.pyplot as plt\n",
    "from pandas.plotting import scatter_matrix\n",
    "%matplotlib inline\n",
    "\n",
    "import seaborn as sns\n",
    "sns.set(style=\"white\", color_codes=True)\n",
    "sns.set(font_scale=1.5)\n",
    "\n",
    "from sklearn.linear_model import LogisticRegression\n",
    "from sklearn.model_selection import train_test_split\n",
    "\n",
    "from sklearn.metrics import confusion_matrix\n",
    "from sklearn.metrics import classification_report\n",
    "from sklearn.metrics import accuracy_score\n",
    "from sklearn.metrics import precision_score\n",
    "from sklearn.metrics import recall_score\n",
    "from sklearn.metrics import f1_score\n",
    "from sklearn import metrics"
   ]
  },
  {
   "cell_type": "code",
   "execution_count": 2,
   "id": "13210f6d",
   "metadata": {},
   "outputs": [
    {
     "data": {
      "text/plain": [
       "(891, 12)"
      ]
     },
     "execution_count": 2,
     "metadata": {},
     "output_type": "execute_result"
    }
   ],
   "source": [
    "df_train = pd.read_csv(\"C:/Users/ASUS/train.csv\")\n",
    "df_train.shape"
   ]
  },
  {
   "cell_type": "code",
   "execution_count": 3,
   "id": "ae28395c",
   "metadata": {},
   "outputs": [
    {
     "data": {
      "text/plain": [
       "0    549\n",
       "1    342\n",
       "Name: Survived, dtype: int64"
      ]
     },
     "execution_count": 3,
     "metadata": {},
     "output_type": "execute_result"
    }
   ],
   "source": [
    "df_train.Survived.value_counts()"
   ]
  },
  {
   "cell_type": "code",
   "execution_count": 4,
   "id": "570c4a5b",
   "metadata": {},
   "outputs": [
    {
     "data": {
      "text/plain": [
       "male      577\n",
       "female    314\n",
       "Name: Sex, dtype: int64"
      ]
     },
     "execution_count": 4,
     "metadata": {},
     "output_type": "execute_result"
    }
   ],
   "source": [
    "df_train.Sex.value_counts()"
   ]
  },
  {
   "cell_type": "code",
   "execution_count": 5,
   "id": "4cdf08f7",
   "metadata": {},
   "outputs": [
    {
     "data": {
      "text/plain": [
       "S    644\n",
       "C    168\n",
       "Q     77\n",
       "Name: Embarked, dtype: int64"
      ]
     },
     "execution_count": 5,
     "metadata": {},
     "output_type": "execute_result"
    }
   ],
   "source": [
    "df_train.Embarked.value_counts()"
   ]
  },
  {
   "cell_type": "code",
   "execution_count": 6,
   "id": "3eac4207",
   "metadata": {},
   "outputs": [
    {
     "data": {
      "text/plain": [
       "PassengerId      0\n",
       "Survived         0\n",
       "Pclass           0\n",
       "Name             0\n",
       "Sex              0\n",
       "Age            177\n",
       "SibSp            0\n",
       "Parch            0\n",
       "Ticket           0\n",
       "Fare             0\n",
       "Cabin          687\n",
       "Embarked         2\n",
       "dtype: int64"
      ]
     },
     "execution_count": 6,
     "metadata": {},
     "output_type": "execute_result"
    }
   ],
   "source": [
    "df_train.isnull().sum()"
   ]
  },
  {
   "cell_type": "code",
   "execution_count": 7,
   "id": "c2cffe05",
   "metadata": {},
   "outputs": [
    {
     "data": {
      "text/html": [
       "<div>\n",
       "<style scoped>\n",
       "    .dataframe tbody tr th:only-of-type {\n",
       "        vertical-align: middle;\n",
       "    }\n",
       "\n",
       "    .dataframe tbody tr th {\n",
       "        vertical-align: top;\n",
       "    }\n",
       "\n",
       "    .dataframe thead th {\n",
       "        text-align: right;\n",
       "    }\n",
       "</style>\n",
       "<table border=\"1\" class=\"dataframe\">\n",
       "  <thead>\n",
       "    <tr style=\"text-align: right;\">\n",
       "      <th></th>\n",
       "      <th>Survived</th>\n",
       "      <th>Pclass</th>\n",
       "      <th>Sex</th>\n",
       "      <th>Age</th>\n",
       "      <th>SibSp</th>\n",
       "      <th>Parch</th>\n",
       "      <th>Fare</th>\n",
       "      <th>Embarked</th>\n",
       "    </tr>\n",
       "  </thead>\n",
       "  <tbody>\n",
       "    <tr>\n",
       "      <th>0</th>\n",
       "      <td>0</td>\n",
       "      <td>3</td>\n",
       "      <td>male</td>\n",
       "      <td>22.0</td>\n",
       "      <td>1</td>\n",
       "      <td>0</td>\n",
       "      <td>7.2500</td>\n",
       "      <td>S</td>\n",
       "    </tr>\n",
       "    <tr>\n",
       "      <th>1</th>\n",
       "      <td>1</td>\n",
       "      <td>1</td>\n",
       "      <td>female</td>\n",
       "      <td>38.0</td>\n",
       "      <td>1</td>\n",
       "      <td>0</td>\n",
       "      <td>71.2833</td>\n",
       "      <td>C</td>\n",
       "    </tr>\n",
       "    <tr>\n",
       "      <th>2</th>\n",
       "      <td>1</td>\n",
       "      <td>3</td>\n",
       "      <td>female</td>\n",
       "      <td>26.0</td>\n",
       "      <td>0</td>\n",
       "      <td>0</td>\n",
       "      <td>7.9250</td>\n",
       "      <td>S</td>\n",
       "    </tr>\n",
       "    <tr>\n",
       "      <th>3</th>\n",
       "      <td>1</td>\n",
       "      <td>1</td>\n",
       "      <td>female</td>\n",
       "      <td>35.0</td>\n",
       "      <td>1</td>\n",
       "      <td>0</td>\n",
       "      <td>53.1000</td>\n",
       "      <td>S</td>\n",
       "    </tr>\n",
       "    <tr>\n",
       "      <th>4</th>\n",
       "      <td>0</td>\n",
       "      <td>3</td>\n",
       "      <td>male</td>\n",
       "      <td>35.0</td>\n",
       "      <td>0</td>\n",
       "      <td>0</td>\n",
       "      <td>8.0500</td>\n",
       "      <td>S</td>\n",
       "    </tr>\n",
       "  </tbody>\n",
       "</table>\n",
       "</div>"
      ],
      "text/plain": [
       "   Survived  Pclass     Sex   Age  SibSp  Parch     Fare Embarked\n",
       "0         0       3    male  22.0      1      0   7.2500        S\n",
       "1         1       1  female  38.0      1      0  71.2833        C\n",
       "2         1       3  female  26.0      0      0   7.9250        S\n",
       "3         1       1  female  35.0      1      0  53.1000        S\n",
       "4         0       3    male  35.0      0      0   8.0500        S"
      ]
     },
     "execution_count": 7,
     "metadata": {},
     "output_type": "execute_result"
    }
   ],
   "source": [
    "df_train = df_train.drop(['PassengerId', 'Name', 'Ticket', 'Cabin'], axis=1)\n",
    "df_train.head()"
   ]
  },
  {
   "cell_type": "code",
   "execution_count": 8,
   "id": "8c3e7cc9",
   "metadata": {},
   "outputs": [],
   "source": [
    "def age_approx(cols):\n",
    "    Age = cols[0]\n",
    "    Pclass = cols[1]\n",
    "    \n",
    "    if pd.isnull(Age):\n",
    "        if Pclass == 1:\n",
    "            return 37\n",
    "        elif Pclass == 2:\n",
    "            return 29\n",
    "        else:\n",
    "            return 24\n",
    "    else:\n",
    "        return Age"
   ]
  },
  {
   "cell_type": "code",
   "execution_count": 9,
   "id": "7a6f954a",
   "metadata": {},
   "outputs": [
    {
     "name": "stderr",
     "output_type": "stream",
     "text": [
      "C:\\Users\\ASUS\\AppData\\Local\\Temp\\ipykernel_7492\\3689284555.py:1: FutureWarning: The default value of numeric_only in DataFrameGroupBy.mean is deprecated. In a future version, numeric_only will default to False. Either specify numeric_only or select only columns which should be valid for the function.\n",
      "  df_train.groupby(['Pclass']).mean()\n"
     ]
    },
    {
     "data": {
      "text/html": [
       "<div>\n",
       "<style scoped>\n",
       "    .dataframe tbody tr th:only-of-type {\n",
       "        vertical-align: middle;\n",
       "    }\n",
       "\n",
       "    .dataframe tbody tr th {\n",
       "        vertical-align: top;\n",
       "    }\n",
       "\n",
       "    .dataframe thead th {\n",
       "        text-align: right;\n",
       "    }\n",
       "</style>\n",
       "<table border=\"1\" class=\"dataframe\">\n",
       "  <thead>\n",
       "    <tr style=\"text-align: right;\">\n",
       "      <th></th>\n",
       "      <th>Survived</th>\n",
       "      <th>Age</th>\n",
       "      <th>SibSp</th>\n",
       "      <th>Parch</th>\n",
       "      <th>Fare</th>\n",
       "    </tr>\n",
       "    <tr>\n",
       "      <th>Pclass</th>\n",
       "      <th></th>\n",
       "      <th></th>\n",
       "      <th></th>\n",
       "      <th></th>\n",
       "      <th></th>\n",
       "    </tr>\n",
       "  </thead>\n",
       "  <tbody>\n",
       "    <tr>\n",
       "      <th>1</th>\n",
       "      <td>0.629630</td>\n",
       "      <td>38.233441</td>\n",
       "      <td>0.416667</td>\n",
       "      <td>0.356481</td>\n",
       "      <td>84.154687</td>\n",
       "    </tr>\n",
       "    <tr>\n",
       "      <th>2</th>\n",
       "      <td>0.472826</td>\n",
       "      <td>29.877630</td>\n",
       "      <td>0.402174</td>\n",
       "      <td>0.380435</td>\n",
       "      <td>20.662183</td>\n",
       "    </tr>\n",
       "    <tr>\n",
       "      <th>3</th>\n",
       "      <td>0.242363</td>\n",
       "      <td>25.140620</td>\n",
       "      <td>0.615071</td>\n",
       "      <td>0.393075</td>\n",
       "      <td>13.675550</td>\n",
       "    </tr>\n",
       "  </tbody>\n",
       "</table>\n",
       "</div>"
      ],
      "text/plain": [
       "        Survived        Age     SibSp     Parch       Fare\n",
       "Pclass                                                    \n",
       "1       0.629630  38.233441  0.416667  0.356481  84.154687\n",
       "2       0.472826  29.877630  0.402174  0.380435  20.662183\n",
       "3       0.242363  25.140620  0.615071  0.393075  13.675550"
      ]
     },
     "execution_count": 9,
     "metadata": {},
     "output_type": "execute_result"
    }
   ],
   "source": [
    "df_train.groupby(['Pclass']).mean()"
   ]
  },
  {
   "cell_type": "code",
   "execution_count": 10,
   "id": "383381d5",
   "metadata": {},
   "outputs": [],
   "source": [
    "df_train['Age'] = df_train[['Age','Pclass']].apply(age_approx, axis=1)"
   ]
  },
  {
   "cell_type": "code",
   "execution_count": 11,
   "id": "950d76b3",
   "metadata": {},
   "outputs": [
    {
     "data": {
      "text/plain": [
       "Survived    0\n",
       "Pclass      0\n",
       "Sex         0\n",
       "Age         0\n",
       "SibSp       0\n",
       "Parch       0\n",
       "Fare        0\n",
       "Embarked    2\n",
       "dtype: int64"
      ]
     },
     "execution_count": 11,
     "metadata": {},
     "output_type": "execute_result"
    }
   ],
   "source": [
    "df_train.isnull().sum()"
   ]
  },
  {
   "cell_type": "code",
   "execution_count": 12,
   "id": "0b28ce2b",
   "metadata": {},
   "outputs": [
    {
     "data": {
      "text/plain": [
       "Survived    0\n",
       "Pclass      0\n",
       "Sex         0\n",
       "Age         0\n",
       "SibSp       0\n",
       "Parch       0\n",
       "Fare        0\n",
       "Embarked    0\n",
       "dtype: int64"
      ]
     },
     "execution_count": 12,
     "metadata": {},
     "output_type": "execute_result"
    }
   ],
   "source": [
    "df_train.dropna(inplace=True)\n",
    "df_train.isnull().sum()"
   ]
  },
  {
   "cell_type": "code",
   "execution_count": 13,
   "id": "b6793cf4",
   "metadata": {},
   "outputs": [
    {
     "data": {
      "text/plain": [
       "Survived      int64\n",
       "Pclass        int64\n",
       "Sex          object\n",
       "Age         float64\n",
       "SibSp         int64\n",
       "Parch         int64\n",
       "Fare        float64\n",
       "Embarked     object\n",
       "dtype: object"
      ]
     },
     "execution_count": 13,
     "metadata": {},
     "output_type": "execute_result"
    }
   ],
   "source": [
    "df_train.dtypes"
   ]
  },
  {
   "cell_type": "code",
   "execution_count": 14,
   "id": "9f97bb7e",
   "metadata": {},
   "outputs": [],
   "source": [
    "df_train_dummied = pd.get_dummies(df_train, columns=[\"Sex\"])"
   ]
  },
  {
   "cell_type": "code",
   "execution_count": 15,
   "id": "d4a4990c",
   "metadata": {},
   "outputs": [],
   "source": [
    "df_train_dummied = pd.get_dummies(df_train_dummied, columns=[\"Embarked\"])"
   ]
  },
  {
   "cell_type": "code",
   "execution_count": 16,
   "id": "231470a7",
   "metadata": {},
   "outputs": [
    {
     "data": {
      "text/html": [
       "<div>\n",
       "<style scoped>\n",
       "    .dataframe tbody tr th:only-of-type {\n",
       "        vertical-align: middle;\n",
       "    }\n",
       "\n",
       "    .dataframe tbody tr th {\n",
       "        vertical-align: top;\n",
       "    }\n",
       "\n",
       "    .dataframe thead th {\n",
       "        text-align: right;\n",
       "    }\n",
       "</style>\n",
       "<table border=\"1\" class=\"dataframe\">\n",
       "  <thead>\n",
       "    <tr style=\"text-align: right;\">\n",
       "      <th></th>\n",
       "      <th>Survived</th>\n",
       "      <th>Pclass</th>\n",
       "      <th>Age</th>\n",
       "      <th>SibSp</th>\n",
       "      <th>Parch</th>\n",
       "      <th>Fare</th>\n",
       "      <th>Sex_female</th>\n",
       "      <th>Sex_male</th>\n",
       "      <th>Embarked_C</th>\n",
       "      <th>Embarked_Q</th>\n",
       "      <th>Embarked_S</th>\n",
       "    </tr>\n",
       "  </thead>\n",
       "  <tbody>\n",
       "    <tr>\n",
       "      <th>0</th>\n",
       "      <td>0</td>\n",
       "      <td>3</td>\n",
       "      <td>22.0</td>\n",
       "      <td>1</td>\n",
       "      <td>0</td>\n",
       "      <td>7.2500</td>\n",
       "      <td>0</td>\n",
       "      <td>1</td>\n",
       "      <td>0</td>\n",
       "      <td>0</td>\n",
       "      <td>1</td>\n",
       "    </tr>\n",
       "    <tr>\n",
       "      <th>1</th>\n",
       "      <td>1</td>\n",
       "      <td>1</td>\n",
       "      <td>38.0</td>\n",
       "      <td>1</td>\n",
       "      <td>0</td>\n",
       "      <td>71.2833</td>\n",
       "      <td>1</td>\n",
       "      <td>0</td>\n",
       "      <td>1</td>\n",
       "      <td>0</td>\n",
       "      <td>0</td>\n",
       "    </tr>\n",
       "    <tr>\n",
       "      <th>2</th>\n",
       "      <td>1</td>\n",
       "      <td>3</td>\n",
       "      <td>26.0</td>\n",
       "      <td>0</td>\n",
       "      <td>0</td>\n",
       "      <td>7.9250</td>\n",
       "      <td>1</td>\n",
       "      <td>0</td>\n",
       "      <td>0</td>\n",
       "      <td>0</td>\n",
       "      <td>1</td>\n",
       "    </tr>\n",
       "    <tr>\n",
       "      <th>3</th>\n",
       "      <td>1</td>\n",
       "      <td>1</td>\n",
       "      <td>35.0</td>\n",
       "      <td>1</td>\n",
       "      <td>0</td>\n",
       "      <td>53.1000</td>\n",
       "      <td>1</td>\n",
       "      <td>0</td>\n",
       "      <td>0</td>\n",
       "      <td>0</td>\n",
       "      <td>1</td>\n",
       "    </tr>\n",
       "    <tr>\n",
       "      <th>4</th>\n",
       "      <td>0</td>\n",
       "      <td>3</td>\n",
       "      <td>35.0</td>\n",
       "      <td>0</td>\n",
       "      <td>0</td>\n",
       "      <td>8.0500</td>\n",
       "      <td>0</td>\n",
       "      <td>1</td>\n",
       "      <td>0</td>\n",
       "      <td>0</td>\n",
       "      <td>1</td>\n",
       "    </tr>\n",
       "  </tbody>\n",
       "</table>\n",
       "</div>"
      ],
      "text/plain": [
       "   Survived  Pclass   Age  SibSp  Parch     Fare  Sex_female  Sex_male  \\\n",
       "0         0       3  22.0      1      0   7.2500           0         1   \n",
       "1         1       1  38.0      1      0  71.2833           1         0   \n",
       "2         1       3  26.0      0      0   7.9250           1         0   \n",
       "3         1       1  35.0      1      0  53.1000           1         0   \n",
       "4         0       3  35.0      0      0   8.0500           0         1   \n",
       "\n",
       "   Embarked_C  Embarked_Q  Embarked_S  \n",
       "0           0           0           1  \n",
       "1           1           0           0  \n",
       "2           0           0           1  \n",
       "3           0           0           1  \n",
       "4           0           0           1  "
      ]
     },
     "execution_count": 16,
     "metadata": {},
     "output_type": "execute_result"
    }
   ],
   "source": [
    "df_train_dummied.head()"
   ]
  },
  {
   "cell_type": "code",
   "execution_count": 19,
   "id": "7c2f9ea6",
   "metadata": {},
   "outputs": [
    {
     "data": {
      "text/plain": [
       "<Axes: >"
      ]
     },
     "execution_count": 19,
     "metadata": {},
     "output_type": "execute_result"
    },
    {
     "data": {
      "image/png": "[encoded data removed]",
      "text/plain": [
       "<Figure size 600x400 with 2 Axes>"
      ]
     },
     "metadata": {},
     "output_type": "display_data"
    }
   ],
   "source": [
    "plt.figure(figsize=(6,4))\n",
    "sns.heatmap(df_train_dummied.corr())"
   ]
  },
  {
   "cell_type": "code",
   "execution_count": 20,
   "id": "32f39b00",
   "metadata": {},
   "outputs": [],
   "source": [
    "used_features = [\"Pclass\", \"Age\", \"SibSp\", \"Parch\", \"Sex_female\", \"Sex_male\", \"Embarked_C\", \"Embarked_Q\", \"Embarked_S\"]\n",
    "\n",
    "X = df_train_dummied[used_features].values\n",
    "y = df_train_dummied['Survived']"
   ]
  },
  {
   "cell_type": "code",
   "execution_count": 21,
   "id": "e76e8499",
   "metadata": {},
   "outputs": [],
   "source": [
    "X_train,X_test,y_train,y_test = train_test_split(X,y,test_size=0.3,random_state=1)"
   ]
  },
  {
   "cell_type": "code",
   "execution_count": 22,
   "id": "96f82781",
   "metadata": {},
   "outputs": [
    {
     "name": "stdout",
     "output_type": "stream",
     "text": [
      "(622, 9)\n",
      "(267, 9)\n",
      "(622,)\n",
      "(267,)\n"
     ]
    }
   ],
   "source": [
    "print(X_train.shape)\n",
    "print(X_test.shape)\n",
    "print(y_train.shape)\n",
    "print(y_test.shape)"
   ]
  },
  {
   "cell_type": "code",
   "execution_count": 23,
   "id": "7799298f",
   "metadata": {},
   "outputs": [],
   "source": [
    "LogReg = LogisticRegression()"
   ]
  },
  {
   "cell_type": "code",
   "execution_count": 24,
   "id": "6931ab19",
   "metadata": {},
   "outputs": [
    {
     "name": "stderr",
     "output_type": "stream",
     "text": [
      "C:\\Users\\ASUS\\anaconda3\\Lib\\site-packages\\sklearn\\linear_model\\_logistic.py:460: ConvergenceWarning: lbfgs failed to converge (status=1):\n",
      "STOP: TOTAL NO. of ITERATIONS REACHED LIMIT.\n",
      "\n",
      "Increase the number of iterations (max_iter) or scale the data as shown in:\n",
      "    https://scikit-learn.org/stable/modules/preprocessing.html\n",
      "Please also refer to the documentation for alternative solver options:\n",
      "    https://scikit-learn.org/stable/modules/linear_model.html#logistic-regression\n",
      "  n_iter_i = _check_optimize_result(\n"
     ]
    },
    {
     "data": {
      "text/html": [
       "<style>#sk-container-id-1 {color: black;}#sk-container-id-1 pre{padding: 0;}#sk-container-id-1 div.sk-toggleable {background-color: white;}#sk-container-id-1 label.sk-toggleable__label {cursor: pointer;display: block;width: 100%;margin-bottom: 0;padding: 0.3em;box-sizing: border-box;text-align: center;}#sk-container-id-1 label.sk-toggleable__label-arrow:before {content: \"▸\";float: left;margin-right: 0.25em;color: #696969;}#sk-container-id-1 label.sk-toggleable__label-arrow:hover:before {color: black;}#sk-container-id-1 div.sk-estimator:hover label.sk-toggleable__label-arrow:before {color: black;}#sk-container-id-1 div.sk-toggleable__content {max-height: 0;max-width: 0;overflow: hidden;text-align: left;background-color: #f0f8ff;}#sk-container-id-1 div.sk-toggleable__content pre {margin: 0.2em;color: black;border-radius: 0.25em;background-color: #f0f8ff;}#sk-container-id-1 input.sk-toggleable__control:checked~div.sk-toggleable__content {max-height: 200px;max-width: 100%;overflow: auto;}#sk-container-id-1 input.sk-toggleable__control:checked~label.sk-toggleable__label-arrow:before {content: \"▾\";}#sk-container-id-1 div.sk-estimator input.sk-toggleable__control:checked~label.sk-toggleable__label {background-color: #d4ebff;}#sk-container-id-1 div.sk-label input.sk-toggleable__control:checked~label.sk-toggleable__label {background-color: #d4ebff;}#sk-container-id-1 input.sk-hidden--visually {border: 0;clip: rect(1px 1px 1px 1px);clip: rect(1px, 1px, 1px, 1px);height: 1px;margin: -1px;overflow: hidden;padding: 0;position: absolute;width: 1px;}#sk-container-id-1 div.sk-estimator {font-family: monospace;background-color: #f0f8ff;border: 1px dotted black;border-radius: 0.25em;box-sizing: border-box;margin-bottom: 0.5em;}#sk-container-id-1 div.sk-estimator:hover {background-color: #d4ebff;}#sk-container-id-1 div.sk-parallel-item::after {content: \"\";width: 100%;border-bottom: 1px solid gray;flex-grow: 1;}#sk-container-id-1 div.sk-label:hover label.sk-toggleable__label {background-color: #d4ebff;}#sk-container-id-1 div.sk-serial::before {content: \"\";position: absolute;border-left: 1px solid gray;box-sizing: border-box;top: 0;bottom: 0;left: 50%;z-index: 0;}#sk-container-id-1 div.sk-serial {display: flex;flex-direction: column;align-items: center;background-color: white;padding-right: 0.2em;padding-left: 0.2em;position: relative;}#sk-container-id-1 div.sk-item {position: relative;z-index: 1;}#sk-container-id-1 div.sk-parallel {display: flex;align-items: stretch;justify-content: center;background-color: white;position: relative;}#sk-container-id-1 div.sk-item::before, #sk-container-id-1 div.sk-parallel-item::before {content: \"\";position: absolute;border-left: 1px solid gray;box-sizing: border-box;top: 0;bottom: 0;left: 50%;z-index: -1;}#sk-container-id-1 div.sk-parallel-item {display: flex;flex-direction: column;z-index: 1;position: relative;background-color: white;}#sk-container-id-1 div.sk-parallel-item:first-child::after {align-self: flex-end;width: 50%;}#sk-container-id-1 div.sk-parallel-item:last-child::after {align-self: flex-start;width: 50%;}#sk-container-id-1 div.sk-parallel-item:only-child::after {width: 0;}#sk-container-id-1 div.sk-dashed-wrapped {border: 1px dashed gray;margin: 0 0.4em 0.5em 0.4em;box-sizing: border-box;padding-bottom: 0.4em;background-color: white;}#sk-container-id-1 div.sk-label label {font-family: monospace;font-weight: bold;display: inline-block;line-height: 1.2em;}#sk-container-id-1 div.sk-label-container {text-align: center;}#sk-container-id-1 div.sk-container {/* jupyter's `normalize.less` sets `[hidden] { display: none; }` but bootstrap.min.css set `[hidden] { display: none !important; }` so we also need the `!important` here to be able to override the default hidden behavior on the sphinx rendered scikit-learn.org. See: https://github.com/scikit-learn/scikit-learn/issues/21755 */display: inline-block !important;position: relative;}#sk-container-id-1 div.sk-text-repr-fallback {display: none;}</style><div id=\"sk-container-id-1\" class=\"sk-top-container\"><div class=\"sk-text-repr-fallback\"><pre>LogisticRegression()</pre><b>In a Jupyter environment, please rerun this cell to show the HTML representation or trust the notebook. <br />On GitHub, the HTML representation is unable to render, please try loading this page with nbviewer.org.</b></div><div class=\"sk-container\" hidden><div class=\"sk-item\"><div class=\"sk-estimator sk-toggleable\"><input class=\"sk-toggleable__control sk-hidden--visually\" id=\"sk-estimator-id-1\" type=\"checkbox\" checked><label for=\"sk-estimator-id-1\" class=\"sk-toggleable__label sk-toggleable__label-arrow\">LogisticRegression</label><div class=\"sk-toggleable__content\"><pre>LogisticRegression()</pre></div></div></div></div></div>"
      ],
      "text/plain": [
       "LogisticRegression()"
      ]
     },
     "execution_count": 24,
     "metadata": {},
     "output_type": "execute_result"
    }
   ],
   "source": [
    "LogReg.fit(X_train, y_train)"
   ]
  },
  {
   "cell_type": "code",
   "execution_count": 25,
   "id": "d9a7d4c9",
   "metadata": {},
   "outputs": [],
   "source": [
    "y_pred = LogReg.predict(X_test)"
   ]
  },
  {
   "cell_type": "code",
   "execution_count": 26,
   "id": "d97920a0",
   "metadata": {},
   "outputs": [
    {
     "data": {
      "text/plain": [
       "array([[143,  23],\n",
       "       [ 22,  79]], dtype=int64)"
      ]
     },
     "execution_count": 26,
     "metadata": {},
     "output_type": "execute_result"
    }
   ],
   "source": [
    "metrics.confusion_matrix(y_test,y_pred)"
   ]
  },
  {
   "cell_type": "code",
   "execution_count": 27,
   "id": "05cfa15e",
   "metadata": {},
   "outputs": [
    {
     "data": {
      "text/plain": [
       "0.8314606741573034"
      ]
     },
     "execution_count": 27,
     "metadata": {},
     "output_type": "execute_result"
    }
   ],
   "source": [
    "metrics.accuracy_score(y_test,y_pred)"
   ]
  },
  {
   "cell_type": "code",
   "execution_count": 28,
   "id": "f28dbc80",
   "metadata": {},
   "outputs": [
    {
     "data": {
      "text/plain": [
       "267"
      ]
     },
     "execution_count": 28,
     "metadata": {},
     "output_type": "execute_result"
    }
   ],
   "source": [
    "len(X_test)"
   ]
  },
  {
   "cell_type": "code",
   "execution_count": 29,
   "id": "ed93a917",
   "metadata": {},
   "outputs": [
    {
     "name": "stdout",
     "output_type": "stream",
     "text": [
      "              precision    recall  f1-score   support\n",
      "\n",
      "           0       0.87      0.86      0.86       166\n",
      "           1       0.77      0.78      0.78       101\n",
      "\n",
      "    accuracy                           0.83       267\n",
      "   macro avg       0.82      0.82      0.82       267\n",
      "weighted avg       0.83      0.83      0.83       267\n",
      "\n"
     ]
    }
   ],
   "source": [
    "print(classification_report(y_test,y_pred))"
   ]
  },
  {
   "cell_type": "code",
   "execution_count": 30,
   "id": "22d65afb",
   "metadata": {},
   "outputs": [
    {
     "data": {
      "text/plain": [
       "array([[-1.05334946, -0.03972865, -0.2395489 , -0.03084741,  1.21683548,\n",
       "        -1.17572502,  0.36423354, -0.01421731, -0.30890577]])"
      ]
     },
     "execution_count": 30,
     "metadata": {},
     "output_type": "execute_result"
    }
   ],
   "source": [
    "LogReg.coef_"
   ]
  },
  {
   "cell_type": "code",
   "execution_count": 31,
   "id": "afea9c43",
   "metadata": {},
   "outputs": [
    {
     "data": {
      "text/plain": [
       "array([3.64735655])"
      ]
     },
     "execution_count": 31,
     "metadata": {},
     "output_type": "execute_result"
    }
   ],
   "source": [
    "LogReg.intercept_"
   ]
  },
  {
   "cell_type": "code",
   "execution_count": 32,
   "id": "cd670ecb",
   "metadata": {},
   "outputs": [
    {
     "data": {
      "text/plain": [
       "Index(['Pclass', 'Age', 'SibSp', 'Parch', 'Sex_female', 'Sex_male',\n",
       "       'Embarked_C', 'Embarked_Q', 'Embarked_S'],\n",
       "      dtype='object')"
      ]
     },
     "execution_count": 32,
     "metadata": {},
     "output_type": "execute_result"
    }
   ],
   "source": [
    "df_train_dummied[used_features].columns"
   ]
  },
  {
   "cell_type": "code",
   "execution_count": 33,
   "id": "f04020f4",
   "metadata": {},
   "outputs": [
    {
     "data": {
      "text/plain": [
       "array([[0.26534776, 0.73465224],\n",
       "       [0.39381416, 0.60618584],\n",
       "       [0.94805848, 0.05194152],\n",
       "       [0.25840638, 0.74159362],\n",
       "       [0.94337231, 0.05662769],\n",
       "       [0.13332374, 0.86667626],\n",
       "       [0.33623403, 0.66376597],\n",
       "       [0.51541204, 0.48458796],\n",
       "       [0.78073704, 0.21926296],\n",
       "       [0.41040461, 0.58959539],\n",
       "       [0.73807181, 0.26192819],\n",
       "       [0.21041693, 0.78958307],\n",
       "       [0.7495294 , 0.2504706 ],\n",
       "       [0.14433678, 0.85566322],\n",
       "       [0.86661474, 0.13338526],\n",
       "       [0.3725699 , 0.6274301 ],\n",
       "       [0.89395926, 0.10604074],\n",
       "       [0.29745607, 0.70254393],\n",
       "       [0.17433174, 0.82566826],\n",
       "       [0.39399153, 0.60600847],\n",
       "       [0.90624625, 0.09375375],\n",
       "       [0.55053836, 0.44946164],\n",
       "       [0.86437644, 0.13562356],\n",
       "       [0.93665844, 0.06334156],\n",
       "       [0.51124866, 0.48875134],\n",
       "       [0.51867185, 0.48132815],\n",
       "       [0.03836134, 0.96163866],\n",
       "       [0.8711406 , 0.1288594 ],\n",
       "       [0.89938041, 0.10061959],\n",
       "       [0.32378338, 0.67621662],\n",
       "       [0.39132399, 0.60867601],\n",
       "       [0.40323283, 0.59676717],\n",
       "       [0.15528423, 0.84471577],\n",
       "       [0.40827103, 0.59172897],\n",
       "       [0.58918172, 0.41081828],\n",
       "       [0.16599445, 0.83400555],\n",
       "       [0.65472209, 0.34527791],\n",
       "       [0.87553496, 0.12446504],\n",
       "       [0.24135846, 0.75864154],\n",
       "       [0.56819557, 0.43180443],\n",
       "       [0.43514997, 0.56485003],\n",
       "       [0.91123991, 0.08876009],\n",
       "       [0.31041483, 0.68958517],\n",
       "       [0.87553496, 0.12446504],\n",
       "       [0.79475017, 0.20524983],\n",
       "       [0.23554331, 0.76445669],\n",
       "       [0.16868697, 0.83131303],\n",
       "       [0.81658662, 0.18341338],\n",
       "       [0.06025107, 0.93974893],\n",
       "       [0.92463188, 0.07536812],\n",
       "       [0.87553496, 0.12446504],\n",
       "       [0.42249107, 0.57750893],\n",
       "       [0.88179158, 0.11820842],\n",
       "       [0.09029179, 0.90970821],\n",
       "       [0.7495294 , 0.2504706 ],\n",
       "       [0.06932793, 0.93067207],\n",
       "       [0.77816739, 0.22183261],\n",
       "       [0.9498138 , 0.0501862 ],\n",
       "       [0.7021866 , 0.2978134 ],\n",
       "       [0.9370446 , 0.0629554 ],\n",
       "       [0.8135108 , 0.1864892 ],\n",
       "       [0.86195511, 0.13804489],\n",
       "       [0.58918172, 0.41081828],\n",
       "       [0.87553496, 0.12446504],\n",
       "       [0.42249107, 0.57750893],\n",
       "       [0.23415889, 0.76584111],\n",
       "       [0.87553496, 0.12446504],\n",
       "       [0.91278282, 0.08721718],\n",
       "       [0.84230086, 0.15769914],\n",
       "       [0.05339526, 0.94660474],\n",
       "       [0.85768521, 0.14231479],\n",
       "       [0.05543931, 0.94456069],\n",
       "       [0.65349876, 0.34650124],\n",
       "       [0.86195511, 0.13804489],\n",
       "       [0.31432331, 0.68567669],\n",
       "       [0.13332374, 0.86667626],\n",
       "       [0.8397167 , 0.1602833 ],\n",
       "       [0.92471386, 0.07528614],\n",
       "       [0.8246344 , 0.1753656 ],\n",
       "       [0.83376878, 0.16623122],\n",
       "       [0.8397167 , 0.1602833 ],\n",
       "       [0.86661474, 0.13338526],\n",
       "       [0.03836134, 0.96163866],\n",
       "       [0.05732516, 0.94267484],\n",
       "       [0.76414877, 0.23585123],\n",
       "       [0.61769348, 0.38230652],\n",
       "       [0.43601747, 0.56398253],\n",
       "       [0.42032562, 0.57967438],\n",
       "       [0.87553496, 0.12446504],\n",
       "       [0.3725699 , 0.6274301 ],\n",
       "       [0.89927384, 0.10072616],\n",
       "       [0.32378338, 0.67621662],\n",
       "       [0.93505732, 0.06494268],\n",
       "       [0.78205305, 0.21794695],\n",
       "       [0.24696044, 0.75303956],\n",
       "       [0.83936111, 0.16063889],\n",
       "       [0.23208157, 0.76791843],\n",
       "       [0.2718702 , 0.7281298 ],\n",
       "       [0.24696044, 0.75303956],\n",
       "       [0.21476198, 0.78523802],\n",
       "       [0.85222591, 0.14777409],\n",
       "       [0.34315298, 0.65684702],\n",
       "       [0.60419245, 0.39580755],\n",
       "       [0.85715953, 0.14284047],\n",
       "       [0.85715953, 0.14284047],\n",
       "       [0.90589107, 0.09410893],\n",
       "       [0.13344751, 0.86655249],\n",
       "       [0.85222591, 0.14777409],\n",
       "       [0.76820684, 0.23179316],\n",
       "       [0.81658662, 0.18341338],\n",
       "       [0.636546  , 0.363454  ],\n",
       "       [0.7495294 , 0.2504706 ],\n",
       "       [0.78205305, 0.21794695],\n",
       "       [0.1865709 , 0.8134291 ],\n",
       "       [0.35685399, 0.64314601],\n",
       "       [0.08346536, 0.91653464],\n",
       "       [0.91488311, 0.08511689],\n",
       "       [0.41040461, 0.58959539],\n",
       "       [0.06267214, 0.93732786],\n",
       "       [0.79158003, 0.20841997],\n",
       "       [0.87980013, 0.12019987],\n",
       "       [0.20427464, 0.79572536],\n",
       "       [0.32378338, 0.67621662],\n",
       "       [0.50075646, 0.49924354],\n",
       "       [0.2035433 , 0.7964567 ],\n",
       "       [0.89374599, 0.10625401],\n",
       "       [0.43924487, 0.56075513],\n",
       "       [0.90858597, 0.09141403],\n",
       "       [0.88393852, 0.11606148],\n",
       "       [0.57633445, 0.42366555],\n",
       "       [0.44962118, 0.55037882],\n",
       "       [0.60419245, 0.39580755],\n",
       "       [0.87708083, 0.12291917],\n",
       "       [0.58918172, 0.41081828],\n",
       "       [0.3725699 , 0.6274301 ],\n",
       "       [0.06997972, 0.93002028],\n",
       "       [0.86195511, 0.13804489],\n",
       "       [0.92735419, 0.07264581],\n",
       "       [0.87553496, 0.12446504],\n",
       "       [0.89184479, 0.10815521],\n",
       "       [0.85950922, 0.14049078],\n",
       "       [0.31457704, 0.68542296],\n",
       "       [0.92463188, 0.07536812],\n",
       "       [0.39160437, 0.60839563],\n",
       "       [0.58918172, 0.41081828],\n",
       "       [0.6903089 , 0.3096911 ],\n",
       "       [0.17819342, 0.82180658],\n",
       "       [0.10360494, 0.89639506],\n",
       "       [0.07806075, 0.92193925],\n",
       "       [0.92838729, 0.07161271],\n",
       "       [0.8545987 , 0.1454013 ],\n",
       "       [0.93735948, 0.06264052],\n",
       "       [0.14069805, 0.85930195],\n",
       "       [0.85222591, 0.14777409],\n",
       "       [0.37491253, 0.62508747],\n",
       "       [0.3725699 , 0.6274301 ],\n",
       "       [0.78819363, 0.21180637],\n",
       "       [0.36924921, 0.63075079],\n",
       "       [0.89184479, 0.10815521],\n",
       "       [0.87553496, 0.12446504],\n",
       "       [0.50075646, 0.49924354],\n",
       "       [0.7712336 , 0.2287664 ],\n",
       "       [0.57633445, 0.42366555],\n",
       "       [0.86940074, 0.13059926],\n",
       "       [0.87329431, 0.12670569],\n",
       "       [0.8365776 , 0.1634224 ],\n",
       "       [0.13358368, 0.86641632],\n",
       "       [0.05816352, 0.94183648],\n",
       "       [0.77857348, 0.22142652],\n",
       "       [0.23256999, 0.76743001],\n",
       "       [0.85222591, 0.14777409],\n",
       "       [0.89808519, 0.10191481],\n",
       "       [0.8397167 , 0.1602833 ],\n",
       "       [0.87553496, 0.12446504],\n",
       "       [0.68161387, 0.31838613],\n",
       "       [0.28730988, 0.71269012],\n",
       "       [0.86661474, 0.13338526],\n",
       "       [0.7104274 , 0.2895726 ],\n",
       "       [0.87553496, 0.12446504],\n",
       "       [0.85222591, 0.14777409],\n",
       "       [0.8397167 , 0.1602833 ],\n",
       "       [0.87553496, 0.12446504],\n",
       "       [0.64185876, 0.35814124],\n",
       "       [0.93226563, 0.06773437],\n",
       "       [0.32378338, 0.67621662],\n",
       "       [0.82293141, 0.17706859],\n",
       "       [0.37827184, 0.62172816],\n",
       "       [0.57953262, 0.42046738],\n",
       "       [0.22509345, 0.77490655],\n",
       "       [0.90624625, 0.09375375],\n",
       "       [0.75335844, 0.24664156],\n",
       "       [0.71462662, 0.28537338],\n",
       "       [0.86661474, 0.13338526],\n",
       "       [0.76436083, 0.23563917],\n",
       "       [0.93690559, 0.06309441],\n",
       "       [0.74567927, 0.25432073],\n",
       "       [0.89797741, 0.10202259],\n",
       "       [0.28552455, 0.71447545],\n",
       "       [0.58918172, 0.41081828],\n",
       "       [0.06384053, 0.93615947],\n",
       "       [0.69489263, 0.30510737],\n",
       "       [0.18315751, 0.81684249],\n",
       "       [0.78015021, 0.21984979],\n",
       "       [0.5460176 , 0.4539824 ],\n",
       "       [0.04645209, 0.95354791],\n",
       "       [0.89184479, 0.10815521],\n",
       "       [0.87768354, 0.12231646],\n",
       "       [0.31875852, 0.68124148],\n",
       "       [0.81098908, 0.18901092],\n",
       "       [0.08708119, 0.91291881],\n",
       "       [0.8397167 , 0.1602833 ],\n",
       "       [0.74199726, 0.25800274],\n",
       "       [0.78205305, 0.21794695],\n",
       "       [0.76820684, 0.23179316],\n",
       "       [0.30409965, 0.69590035],\n",
       "       [0.19096511, 0.80903489],\n",
       "       [0.75691368, 0.24308632],\n",
       "       [0.19147985, 0.80852015],\n",
       "       [0.9158942 , 0.0841058 ],\n",
       "       [0.68971256, 0.31028744],\n",
       "       [0.86940074, 0.13059926],\n",
       "       [0.49496426, 0.50503574],\n",
       "       [0.6684239 , 0.3315761 ],\n",
       "       [0.22153768, 0.77846232],\n",
       "       [0.24298839, 0.75701161],\n",
       "       [0.86661474, 0.13338526],\n",
       "       [0.57293273, 0.42706727],\n",
       "       [0.8397167 , 0.1602833 ],\n",
       "       [0.78874873, 0.21125127],\n",
       "       [0.74785838, 0.25214162],\n",
       "       [0.37827184, 0.62172816],\n",
       "       [0.29414423, 0.70585577],\n",
       "       [0.46493103, 0.53506897],\n",
       "       [0.8397167 , 0.1602833 ],\n",
       "       [0.89927384, 0.10072616],\n",
       "       [0.89195827, 0.10804173],\n",
       "       [0.87553496, 0.12446504],\n",
       "       [0.79700463, 0.20299537],\n",
       "       [0.34802255, 0.65197745],\n",
       "       [0.87980013, 0.12019987],\n",
       "       [0.29745607, 0.70254393],\n",
       "       [0.8397167 , 0.1602833 ],\n",
       "       [0.85222591, 0.14777409],\n",
       "       [0.66868471, 0.33131529],\n",
       "       [0.51674821, 0.48325179],\n",
       "       [0.09569238, 0.90430762],\n",
       "       [0.13254802, 0.86745198],\n",
       "       [0.7951339 , 0.2048661 ],\n",
       "       [0.68946061, 0.31053939],\n",
       "       [0.87566316, 0.12433684],\n",
       "       [0.23742886, 0.76257114],\n",
       "       [0.32378338, 0.67621662],\n",
       "       [0.40082671, 0.59917329],\n",
       "       [0.94137777, 0.05862223],\n",
       "       [0.10799044, 0.89200956],\n",
       "       [0.22567451, 0.77432549],\n",
       "       [0.88393852, 0.11606148],\n",
       "       [0.90624625, 0.09375375],\n",
       "       [0.03771143, 0.96228857],\n",
       "       [0.78205305, 0.21794695],\n",
       "       [0.20166606, 0.79833394],\n",
       "       [0.87371603, 0.12628397],\n",
       "       [0.65271164, 0.34728836],\n",
       "       [0.87553496, 0.12446504],\n",
       "       [0.29414423, 0.70585577],\n",
       "       [0.8397167 , 0.1602833 ],\n",
       "       [0.91145338, 0.08854662]])"
      ]
     },
     "execution_count": 33,
     "metadata": {},
     "output_type": "execute_result"
    }
   ],
   "source": [
    "LogReg.predict_proba(X_test)"
   ]
  },
  {
   "cell_type": "code",
   "execution_count": null,
   "id": "188dcfd4",
   "metadata": {},
   "outputs": [],
   "source": []
  }
 ],
 "metadata": {
  "kernelspec": {
   "display_name": "Python 3 (ipykernel)",
   "language": "python",
   "name": "python3"
  },
  "language_info": {
   "codemirror_mode": {
    "name": "ipython",
    "version": 3
   },
   "file_extension": ".py",
   "mimetype": "text/x-python",
   "name": "python",
   "nbconvert_exporter": "python",
   "pygments_lexer": "ipython3",
   "version": "3.11.4"
  }
 },
 "nbformat": 4,
 "nbformat_minor": 5
}
